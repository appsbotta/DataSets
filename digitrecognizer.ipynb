{
 "cells": [
  {
   "cell_type": "code",
   "execution_count": 1,
   "id": "f7f86c9e",
   "metadata": {
    "execution": {
     "iopub.execute_input": "2023-08-27T12:20:57.433903Z",
     "iopub.status.busy": "2023-08-27T12:20:57.433455Z",
     "iopub.status.idle": "2023-08-27T12:21:06.835020Z",
     "shell.execute_reply": "2023-08-27T12:21:06.833875Z"
    },
    "papermill": {
     "duration": 9.417226,
     "end_time": "2023-08-27T12:21:06.837756",
     "exception": false,
     "start_time": "2023-08-27T12:20:57.420530",
     "status": "completed"
    },
    "tags": []
   },
   "outputs": [
    {
     "name": "stderr",
     "output_type": "stream",
     "text": [
      "/opt/conda/lib/python3.10/site-packages/scipy/__init__.py:146: UserWarning: A NumPy version >=1.16.5 and <1.23.0 is required for this version of SciPy (detected version 1.23.5\n",
      "  warnings.warn(f\"A NumPy version >={np_minversion} and <{np_maxversion}\"\n",
      "/opt/conda/lib/python3.10/site-packages/tensorflow_io/python/ops/__init__.py:98: UserWarning: unable to load libtensorflow_io_plugins.so: unable to open file: libtensorflow_io_plugins.so, from paths: ['/opt/conda/lib/python3.10/site-packages/tensorflow_io/python/ops/libtensorflow_io_plugins.so']\n",
      "caused by: ['/opt/conda/lib/python3.10/site-packages/tensorflow_io/python/ops/libtensorflow_io_plugins.so: undefined symbol: _ZN3tsl6StatusC1EN10tensorflow5error4CodeESt17basic_string_viewIcSt11char_traitsIcEENS_14SourceLocationE']\n",
      "  warnings.warn(f\"unable to load libtensorflow_io_plugins.so: {e}\")\n",
      "/opt/conda/lib/python3.10/site-packages/tensorflow_io/python/ops/__init__.py:104: UserWarning: file system plugins are not loaded: unable to open file: libtensorflow_io.so, from paths: ['/opt/conda/lib/python3.10/site-packages/tensorflow_io/python/ops/libtensorflow_io.so']\n",
      "caused by: ['/opt/conda/lib/python3.10/site-packages/tensorflow_io/python/ops/libtensorflow_io.so: undefined symbol: _ZTVN10tensorflow13GcsFileSystemE']\n",
      "  warnings.warn(f\"file system plugins are not loaded: {e}\")\n"
     ]
    }
   ],
   "source": [
    "import pandas as pd\n",
    "import numpy as np\n",
    "import matplotlib.pyplot as plt\n",
    "import matplotlib.image as mpimg\n",
    "import seaborn as sns\n",
    "%matplotlib inline\n",
    "\n",
    "np.random.seed(2)\n",
    "\n",
    "from sklearn.model_selection import train_test_split\n",
    "from sklearn.metrics import confusion_matrix\n",
    "import itertools\n",
    "\n",
    "from keras.utils.np_utils import to_categorical # convert to one-hot-encoding\n",
    "from keras.models import Sequential\n",
    "from keras.layers import Dense, Dropout, Flatten, Conv2D, MaxPool2D\n",
    "from tensorflow.keras.optimizers import RMSprop\n",
    "from keras.preprocessing.image import ImageDataGenerator\n",
    "from keras.callbacks import ReduceLROnPlateau\n",
    "\n",
    "\n",
    "sns.set(style='white', context='notebook', palette='deep')"
   ]
  },
  {
   "cell_type": "markdown",
   "id": "b4325c10",
   "metadata": {
    "papermill": {
     "duration": 0.01057,
     "end_time": "2023-08-27T12:21:06.859839",
     "exception": false,
     "start_time": "2023-08-27T12:21:06.849269",
     "status": "completed"
    },
    "tags": []
   },
   "source": [
    "# 2. Data preparation\n",
    "## 2.1 Load data"
   ]
  },
  {
   "cell_type": "code",
   "execution_count": 2,
   "id": "a920bb76",
   "metadata": {
    "execution": {
     "iopub.execute_input": "2023-08-27T12:21:06.883638Z",
     "iopub.status.busy": "2023-08-27T12:21:06.882310Z",
     "iopub.status.idle": "2023-08-27T12:21:12.362023Z",
     "shell.execute_reply": "2023-08-27T12:21:12.361009Z"
    },
    "papermill": {
     "duration": 5.493921,
     "end_time": "2023-08-27T12:21:12.364447",
     "exception": false,
     "start_time": "2023-08-27T12:21:06.870526",
     "status": "completed"
    },
    "tags": []
   },
   "outputs": [],
   "source": [
    "# Load the data\n",
    "train = pd.read_csv(\"../input/digit-recognizer/train.csv\")\n",
    "test = pd.read_csv(\"../input/digit-recognizer/test.csv\")"
   ]
  },
  {
   "cell_type": "code",
   "execution_count": 3,
   "id": "387449f2",
   "metadata": {
    "execution": {
     "iopub.execute_input": "2023-08-27T12:21:12.388191Z",
     "iopub.status.busy": "2023-08-27T12:21:12.387893Z",
     "iopub.status.idle": "2023-08-27T12:21:12.410246Z",
     "shell.execute_reply": "2023-08-27T12:21:12.409235Z"
    },
    "papermill": {
     "duration": 0.037293,
     "end_time": "2023-08-27T12:21:12.412937",
     "exception": false,
     "start_time": "2023-08-27T12:21:12.375644",
     "status": "completed"
    },
    "tags": []
   },
   "outputs": [
    {
     "data": {
      "text/html": [
       "<div>\n",
       "<style scoped>\n",
       "    .dataframe tbody tr th:only-of-type {\n",
       "        vertical-align: middle;\n",
       "    }\n",
       "\n",
       "    .dataframe tbody tr th {\n",
       "        vertical-align: top;\n",
       "    }\n",
       "\n",
       "    .dataframe thead th {\n",
       "        text-align: right;\n",
       "    }\n",
       "</style>\n",
       "<table border=\"1\" class=\"dataframe\">\n",
       "  <thead>\n",
       "    <tr style=\"text-align: right;\">\n",
       "      <th></th>\n",
       "      <th>label</th>\n",
       "      <th>pixel0</th>\n",
       "      <th>pixel1</th>\n",
       "      <th>pixel2</th>\n",
       "      <th>pixel3</th>\n",
       "      <th>pixel4</th>\n",
       "      <th>pixel5</th>\n",
       "      <th>pixel6</th>\n",
       "      <th>pixel7</th>\n",
       "      <th>pixel8</th>\n",
       "      <th>...</th>\n",
       "      <th>pixel774</th>\n",
       "      <th>pixel775</th>\n",
       "      <th>pixel776</th>\n",
       "      <th>pixel777</th>\n",
       "      <th>pixel778</th>\n",
       "      <th>pixel779</th>\n",
       "      <th>pixel780</th>\n",
       "      <th>pixel781</th>\n",
       "      <th>pixel782</th>\n",
       "      <th>pixel783</th>\n",
       "    </tr>\n",
       "  </thead>\n",
       "  <tbody>\n",
       "    <tr>\n",
       "      <th>0</th>\n",
       "      <td>1</td>\n",
       "      <td>0</td>\n",
       "      <td>0</td>\n",
       "      <td>0</td>\n",
       "      <td>0</td>\n",
       "      <td>0</td>\n",
       "      <td>0</td>\n",
       "      <td>0</td>\n",
       "      <td>0</td>\n",
       "      <td>0</td>\n",
       "      <td>...</td>\n",
       "      <td>0</td>\n",
       "      <td>0</td>\n",
       "      <td>0</td>\n",
       "      <td>0</td>\n",
       "      <td>0</td>\n",
       "      <td>0</td>\n",
       "      <td>0</td>\n",
       "      <td>0</td>\n",
       "      <td>0</td>\n",
       "      <td>0</td>\n",
       "    </tr>\n",
       "    <tr>\n",
       "      <th>1</th>\n",
       "      <td>0</td>\n",
       "      <td>0</td>\n",
       "      <td>0</td>\n",
       "      <td>0</td>\n",
       "      <td>0</td>\n",
       "      <td>0</td>\n",
       "      <td>0</td>\n",
       "      <td>0</td>\n",
       "      <td>0</td>\n",
       "      <td>0</td>\n",
       "      <td>...</td>\n",
       "      <td>0</td>\n",
       "      <td>0</td>\n",
       "      <td>0</td>\n",
       "      <td>0</td>\n",
       "      <td>0</td>\n",
       "      <td>0</td>\n",
       "      <td>0</td>\n",
       "      <td>0</td>\n",
       "      <td>0</td>\n",
       "      <td>0</td>\n",
       "    </tr>\n",
       "    <tr>\n",
       "      <th>2</th>\n",
       "      <td>1</td>\n",
       "      <td>0</td>\n",
       "      <td>0</td>\n",
       "      <td>0</td>\n",
       "      <td>0</td>\n",
       "      <td>0</td>\n",
       "      <td>0</td>\n",
       "      <td>0</td>\n",
       "      <td>0</td>\n",
       "      <td>0</td>\n",
       "      <td>...</td>\n",
       "      <td>0</td>\n",
       "      <td>0</td>\n",
       "      <td>0</td>\n",
       "      <td>0</td>\n",
       "      <td>0</td>\n",
       "      <td>0</td>\n",
       "      <td>0</td>\n",
       "      <td>0</td>\n",
       "      <td>0</td>\n",
       "      <td>0</td>\n",
       "    </tr>\n",
       "    <tr>\n",
       "      <th>3</th>\n",
       "      <td>4</td>\n",
       "      <td>0</td>\n",
       "      <td>0</td>\n",
       "      <td>0</td>\n",
       "      <td>0</td>\n",
       "      <td>0</td>\n",
       "      <td>0</td>\n",
       "      <td>0</td>\n",
       "      <td>0</td>\n",
       "      <td>0</td>\n",
       "      <td>...</td>\n",
       "      <td>0</td>\n",
       "      <td>0</td>\n",
       "      <td>0</td>\n",
       "      <td>0</td>\n",
       "      <td>0</td>\n",
       "      <td>0</td>\n",
       "      <td>0</td>\n",
       "      <td>0</td>\n",
       "      <td>0</td>\n",
       "      <td>0</td>\n",
       "    </tr>\n",
       "    <tr>\n",
       "      <th>4</th>\n",
       "      <td>0</td>\n",
       "      <td>0</td>\n",
       "      <td>0</td>\n",
       "      <td>0</td>\n",
       "      <td>0</td>\n",
       "      <td>0</td>\n",
       "      <td>0</td>\n",
       "      <td>0</td>\n",
       "      <td>0</td>\n",
       "      <td>0</td>\n",
       "      <td>...</td>\n",
       "      <td>0</td>\n",
       "      <td>0</td>\n",
       "      <td>0</td>\n",
       "      <td>0</td>\n",
       "      <td>0</td>\n",
       "      <td>0</td>\n",
       "      <td>0</td>\n",
       "      <td>0</td>\n",
       "      <td>0</td>\n",
       "      <td>0</td>\n",
       "    </tr>\n",
       "  </tbody>\n",
       "</table>\n",
       "<p>5 rows × 785 columns</p>\n",
       "</div>"
      ],
      "text/plain": [
       "   label  pixel0  pixel1  pixel2  pixel3  pixel4  pixel5  pixel6  pixel7  \\\n",
       "0      1       0       0       0       0       0       0       0       0   \n",
       "1      0       0       0       0       0       0       0       0       0   \n",
       "2      1       0       0       0       0       0       0       0       0   \n",
       "3      4       0       0       0       0       0       0       0       0   \n",
       "4      0       0       0       0       0       0       0       0       0   \n",
       "\n",
       "   pixel8  ...  pixel774  pixel775  pixel776  pixel777  pixel778  pixel779  \\\n",
       "0       0  ...         0         0         0         0         0         0   \n",
       "1       0  ...         0         0         0         0         0         0   \n",
       "2       0  ...         0         0         0         0         0         0   \n",
       "3       0  ...         0         0         0         0         0         0   \n",
       "4       0  ...         0         0         0         0         0         0   \n",
       "\n",
       "   pixel780  pixel781  pixel782  pixel783  \n",
       "0         0         0         0         0  \n",
       "1         0         0         0         0  \n",
       "2         0         0         0         0  \n",
       "3         0         0         0         0  \n",
       "4         0         0         0         0  \n",
       "\n",
       "[5 rows x 785 columns]"
      ]
     },
     "execution_count": 3,
     "metadata": {},
     "output_type": "execute_result"
    }
   ],
   "source": [
    "train.head()"
   ]
  },
  {
   "cell_type": "code",
   "execution_count": 4,
   "id": "3d25a633",
   "metadata": {
    "execution": {
     "iopub.execute_input": "2023-08-27T12:21:12.436323Z",
     "iopub.status.busy": "2023-08-27T12:21:12.436057Z",
     "iopub.status.idle": "2023-08-27T12:21:12.770705Z",
     "shell.execute_reply": "2023-08-27T12:21:12.769736Z"
    },
    "papermill": {
     "duration": 0.348664,
     "end_time": "2023-08-27T12:21:12.772690",
     "exception": false,
     "start_time": "2023-08-27T12:21:12.424026",
     "status": "completed"
    },
    "tags": []
   },
   "outputs": [
    {
     "data": {
      "text/plain": [
       "1    4684\n",
       "7    4401\n",
       "3    4351\n",
       "9    4188\n",
       "2    4177\n",
       "6    4137\n",
       "0    4132\n",
       "4    4072\n",
       "8    4063\n",
       "5    3795\n",
       "Name: label, dtype: int64"
      ]
     },
     "execution_count": 4,
     "metadata": {},
     "output_type": "execute_result"
    },
    {
     "data": {
      "image/png": "[encoded data removed]",
      "text/plain": [
       "<Figure size 640x480 with 1 Axes>"
      ]
     },
     "metadata": {},
     "output_type": "display_data"
    }
   ],
   "source": [
    "Y_train = train[\"label\"]\n",
    "\n",
    "# Drop 'label' column\n",
    "X_train = train.drop(labels = [\"label\"],axis = 1) \n",
    "\n",
    "# free some space\n",
    "del train \n",
    "\n",
    "g = sns.countplot(Y_train)\n",
    "\n",
    "Y_train.value_counts()"
   ]
  },
  {
   "cell_type": "markdown",
   "id": "aa443392",
   "metadata": {
    "papermill": {
     "duration": 0.011362,
     "end_time": "2023-08-27T12:21:12.796238",
     "exception": false,
     "start_time": "2023-08-27T12:21:12.784876",
     "status": "completed"
    },
    "tags": []
   },
   "source": [
    "We have similar counts for the 10 digits."
   ]
  },
  {
   "cell_type": "markdown",
   "id": "276d86a9",
   "metadata": {
    "papermill": {
     "duration": 0.011276,
     "end_time": "2023-08-27T12:21:12.818894",
     "exception": false,
     "start_time": "2023-08-27T12:21:12.807618",
     "status": "completed"
    },
    "tags": []
   },
   "source": [
    "## 2.2 Check for null and missing values"
   ]
  },
  {
   "cell_type": "code",
   "execution_count": 5,
   "id": "42d3969a",
   "metadata": {
    "execution": {
     "iopub.execute_input": "2023-08-27T12:21:12.843229Z",
     "iopub.status.busy": "2023-08-27T12:21:12.842653Z",
     "iopub.status.idle": "2023-08-27T12:21:12.860958Z",
     "shell.execute_reply": "2023-08-27T12:21:12.859884Z"
    },
    "papermill": {
     "duration": 0.03299,
     "end_time": "2023-08-27T12:21:12.863209",
     "exception": false,
     "start_time": "2023-08-27T12:21:12.830219",
     "status": "completed"
    },
    "tags": []
   },
   "outputs": [
    {
     "data": {
      "text/plain": [
       "count       784\n",
       "unique        1\n",
       "top       False\n",
       "freq        784\n",
       "dtype: object"
      ]
     },
     "execution_count": 5,
     "metadata": {},
     "output_type": "execute_result"
    }
   ],
   "source": [
    "# Check the data\n",
    "X_train.isnull().any().describe()"
   ]
  },
  {
   "cell_type": "code",
   "execution_count": 6,
   "id": "c95972e2",
   "metadata": {
    "execution": {
     "iopub.execute_input": "2023-08-27T12:21:12.887568Z",
     "iopub.status.busy": "2023-08-27T12:21:12.887285Z",
     "iopub.status.idle": "2023-08-27T12:21:12.899932Z",
     "shell.execute_reply": "2023-08-27T12:21:12.898766Z"
    },
    "papermill": {
     "duration": 0.027313,
     "end_time": "2023-08-27T12:21:12.902150",
     "exception": false,
     "start_time": "2023-08-27T12:21:12.874837",
     "status": "completed"
    },
    "tags": []
   },
   "outputs": [
    {
     "data": {
      "text/plain": [
       "count       784\n",
       "unique        1\n",
       "top       False\n",
       "freq        784\n",
       "dtype: object"
      ]
     },
     "execution_count": 6,
     "metadata": {},
     "output_type": "execute_result"
    }
   ],
   "source": [
    "test.isnull().any().describe()"
   ]
  },
  {
   "cell_type": "markdown",
   "id": "d343d685",
   "metadata": {
    "papermill": {
     "duration": 0.011741,
     "end_time": "2023-08-27T12:21:12.925800",
     "exception": false,
     "start_time": "2023-08-27T12:21:12.914059",
     "status": "completed"
    },
    "tags": []
   },
   "source": [
    "I checked for corrupted images (missing values inside).\n",
    "\n",
    "There are no missing values in the train and test dataset. So we can safely go ahead."
   ]
  },
  {
   "cell_type": "markdown",
   "id": "2b520441",
   "metadata": {
    "papermill": {
     "duration": 0.011434,
     "end_time": "2023-08-27T12:21:12.948812",
     "exception": false,
     "start_time": "2023-08-27T12:21:12.937378",
     "status": "completed"
    },
    "tags": []
   },
   "source": [
    "## 2.3 Normalisation\n",
    "\n",
    "We perform a grayscale normalization to reduce the effect of illumination's differences. \n",
    "\n",
    "Moreover the CNN converges faster on [0..1] data than on [0..255]."
   ]
  },
  {
   "cell_type": "code",
   "execution_count": 7,
   "id": "ac1d2a71",
   "metadata": {
    "execution": {
     "iopub.execute_input": "2023-08-27T12:21:12.974576Z",
     "iopub.status.busy": "2023-08-27T12:21:12.974299Z",
     "iopub.status.idle": "2023-08-27T12:21:13.144122Z",
     "shell.execute_reply": "2023-08-27T12:21:13.143114Z"
    },
    "papermill": {
     "duration": 0.184653,
     "end_time": "2023-08-27T12:21:13.146555",
     "exception": false,
     "start_time": "2023-08-27T12:21:12.961902",
     "status": "completed"
    },
    "tags": []
   },
   "outputs": [],
   "source": [
    "# Normalize the data\n",
    "X_train = X_train / 255.0\n",
    "test = test / 255.0"
   ]
  },
  {
   "cell_type": "markdown",
   "id": "0c462065",
   "metadata": {
    "papermill": {
     "duration": 0.011545,
     "end_time": "2023-08-27T12:21:13.170223",
     "exception": false,
     "start_time": "2023-08-27T12:21:13.158678",
     "status": "completed"
    },
    "tags": []
   },
   "source": [
    "## 2.4 Normalisation"
   ]
  },
  {
   "cell_type": "code",
   "execution_count": 8,
   "id": "c4c1fa3e",
   "metadata": {
    "execution": {
     "iopub.execute_input": "2023-08-27T12:21:13.194655Z",
     "iopub.status.busy": "2023-08-27T12:21:13.194365Z",
     "iopub.status.idle": "2023-08-27T12:21:13.199132Z",
     "shell.execute_reply": "2023-08-27T12:21:13.198060Z"
    },
    "papermill": {
     "duration": 0.019662,
     "end_time": "2023-08-27T12:21:13.201422",
     "exception": false,
     "start_time": "2023-08-27T12:21:13.181760",
     "status": "completed"
    },
    "tags": []
   },
   "outputs": [],
   "source": [
    "# Reshape image in 3 dimensions (height = 28px, width = 28px , canal = 1)\n",
    "X_train = X_train.values.reshape(-1,28,28,1)\n",
    "test = test.values.reshape(-1,28,28,1)"
   ]
  },
  {
   "cell_type": "markdown",
   "id": "5151ece0",
   "metadata": {
    "papermill": {
     "duration": 0.011418,
     "end_time": "2023-08-27T12:21:13.224703",
     "exception": false,
     "start_time": "2023-08-27T12:21:13.213285",
     "status": "completed"
    },
    "tags": []
   },
   "source": [
    "Train and test images (28px x 28px) has been stock into pandas.Dataframe as 1D vectors of 784 values. We reshape all data to 28x28x1 3D matrices. \n",
    "\n",
    "Keras requires an extra dimension in the end which correspond to channels. MNIST images are gray scaled so it use only one channel. For RGB images, there is 3 channels, we would have reshaped 784px vectors to 28x28x3 3D matrices. "
   ]
  },
  {
   "cell_type": "markdown",
   "id": "43775c21",
   "metadata": {
    "papermill": {
     "duration": 0.011391,
     "end_time": "2023-08-27T12:21:13.247679",
     "exception": false,
     "start_time": "2023-08-27T12:21:13.236288",
     "status": "completed"
    },
    "tags": []
   },
   "source": [
    "## 2.5 Label Encoding\n",
    "\n",
    "Labels are 10 digits numbers from 0 to 9. We need to encode these lables to one hot vectors (ex : 2 -> [0,0,1,0,0,0,0,0,0,0])."
   ]
  },
  {
   "cell_type": "code",
   "execution_count": 9,
   "id": "c1f94830",
   "metadata": {
    "execution": {
     "iopub.execute_input": "2023-08-27T12:21:13.271857Z",
     "iopub.status.busy": "2023-08-27T12:21:13.271579Z",
     "iopub.status.idle": "2023-08-27T12:21:13.276584Z",
     "shell.execute_reply": "2023-08-27T12:21:13.275733Z"
    },
    "papermill": {
     "duration": 0.019293,
     "end_time": "2023-08-27T12:21:13.278519",
     "exception": false,
     "start_time": "2023-08-27T12:21:13.259226",
     "status": "completed"
    },
    "tags": []
   },
   "outputs": [],
   "source": [
    "# Encode labels to one hot vectors (ex : 2 -> [0,0,1,0,0,0,0,0,0,0])\n",
    "Y_train = to_categorical(Y_train, num_classes = 10)"
   ]
  },
  {
   "cell_type": "markdown",
   "id": "de6dae7d",
   "metadata": {
    "papermill": {
     "duration": 0.011413,
     "end_time": "2023-08-27T12:21:13.301537",
     "exception": false,
     "start_time": "2023-08-27T12:21:13.290124",
     "status": "completed"
    },
    "tags": []
   },
   "source": [
    "## Splitting the training and validation set\n",
    "\n",
    "I chose to split the train set in two parts : a small fraction (10%) became the validation set on which the model is evaluated and the rest (90%) is used to train the model.\n",
    "\n",
    "Since we have 42,000 training images of balanced labels (see 2.1 Load data), a random split of the train set doesn't cause some labels to be over represented in the validation set. Be careful with some unbalanced dataset a simple random split could cause inaccurate evaluation during the validation.\n",
    "\n",
    "To avoid that, you could use stratify = True option in train_test_split function"
   ]
  },
  {
   "cell_type": "code",
   "execution_count": 10,
   "id": "ee61e12e",
   "metadata": {
    "execution": {
     "iopub.execute_input": "2023-08-27T12:21:13.326142Z",
     "iopub.status.busy": "2023-08-27T12:21:13.325801Z",
     "iopub.status.idle": "2023-08-27T12:21:13.330104Z",
     "shell.execute_reply": "2023-08-27T12:21:13.329080Z"
    },
    "papermill": {
     "duration": 0.019234,
     "end_time": "2023-08-27T12:21:13.332382",
     "exception": false,
     "start_time": "2023-08-27T12:21:13.313148",
     "status": "completed"
    },
    "tags": []
   },
   "outputs": [],
   "source": [
    "#Set the random seed\n",
    "random_seed = 2"
   ]
  },
  {
   "cell_type": "code",
   "execution_count": 11,
   "id": "a82e6f4f",
   "metadata": {
    "execution": {
     "iopub.execute_input": "2023-08-27T12:21:13.356526Z",
     "iopub.status.busy": "2023-08-27T12:21:13.356271Z",
     "iopub.status.idle": "2023-08-27T12:21:13.721354Z",
     "shell.execute_reply": "2023-08-27T12:21:13.720334Z"
    },
    "papermill": {
     "duration": 0.379784,
     "end_time": "2023-08-27T12:21:13.723688",
     "exception": false,
     "start_time": "2023-08-27T12:21:13.343904",
     "status": "completed"
    },
    "tags": []
   },
   "outputs": [],
   "source": [
    "#Split the train and the validation set for the fitting\n",
    "X_train, X_val, Y_train, Y_val = train_test_split(X_train, Y_train, test_size = 0.1, random_state=random_seed)"
   ]
  },
  {
   "cell_type": "code",
   "execution_count": 12,
   "id": "46e9411b",
   "metadata": {
    "execution": {
     "iopub.execute_input": "2023-08-27T12:21:13.748776Z",
     "iopub.status.busy": "2023-08-27T12:21:13.748486Z",
     "iopub.status.idle": "2023-08-27T12:21:14.116358Z",
     "shell.execute_reply": "2023-08-27T12:21:14.115265Z"
    },
    "papermill": {
     "duration": 0.383544,
     "end_time": "2023-08-27T12:21:14.119254",
     "exception": false,
     "start_time": "2023-08-27T12:21:13.735710",
     "status": "completed"
    },
    "tags": []
   },
   "outputs": [
    {
     "data": {
      "image/png": "[encoded data removed]",
      "text/plain": [
       "<Figure size 640x480 with 1 Axes>"
      ]
     },
     "metadata": {},
     "output_type": "display_data"
    }
   ],
   "source": [
    "#Visualising an example\n",
    "g = plt.imshow(X_train[0][:,:,0])"
   ]
  },
  {
   "cell_type": "markdown",
   "id": "f110fd39",
   "metadata": {
    "papermill": {
     "duration": 0.016002,
     "end_time": "2023-08-27T12:21:14.160325",
     "exception": false,
     "start_time": "2023-08-27T12:21:14.144323",
     "status": "completed"
    },
    "tags": []
   },
   "source": [
    "# 3. CNN\n",
    "## 3.1 Define the Model\n",
    "\n",
    "I used the Keras Sequential API, where you have just to add one layer at a time, starting from the input.\n",
    "\n",
    "The first is the convolutional (Conv2D) layer. It is like a set of learnable filters. I choosed to set 32 filters for the two firsts conv2D layers and 64 filters for the two last ones. Each filter transforms a part of the image (defined by the kernel size) using the kernel filter. The kernel filter matrix is applied on the whole image. Filters can be seen as a transformation of the image.\n",
    "\n",
    "The CNN can isolate features that are useful everywhere from these transformed images (feature maps).\n",
    "\n",
    "The second important layer in CNN is the pooling (MaxPool2D) layer. This layer simply acts as a downsampling filter. It looks at the 2 neighboring pixels and picks the maximal value. These are used to reduce computational cost, and to some extent also reduce overfitting. We have to choose the pooling size (i.e the area size pooled each time) more the pooling dimension is high, more the downsampling is important. \n",
    "\n",
    "Combining convolutional and pooling layers, CNN are able to combine local features and learn more global features of the image.\n",
    "\n",
    "Dropout is a regularization method, where a proportion of nodes in the layer are randomly ignored (setting their wieghts to zero) for each training sample. This drops randomly a propotion of the network and forces the network to learn features in a distributed way. This technique also improves generalization and reduces the overfitting. \n",
    "\n",
    "'relu' is the rectifier (activation function max(0,x). The rectifier activation function is used to add non linearity to the network. \n",
    "\n",
    "The Flatten layer is use to convert the final feature maps into a one single 1D vector. This flattening step is needed so that you can make use of fully connected layers after some convolutional/maxpool layers. It combines all the found local features of the previous convolutional layers.\n",
    "\n",
    "In the end i used the features in two fully-connected (Dense) layers which is just artificial an neural networks (ANN) classifier. In the last layer(Dense(10,activation=\"softmax\")) the net outputs distribution of probability of each class."
   ]
  },
  {
   "cell_type": "code",
   "execution_count": 13,
   "id": "072953f0",
   "metadata": {
    "execution": {
     "iopub.execute_input": "2023-08-27T12:21:14.185487Z",
     "iopub.status.busy": "2023-08-27T12:21:14.185164Z",
     "iopub.status.idle": "2023-08-27T12:21:17.156698Z",
     "shell.execute_reply": "2023-08-27T12:21:17.155751Z"
    },
    "papermill": {
     "duration": 2.987068,
     "end_time": "2023-08-27T12:21:17.159260",
     "exception": false,
     "start_time": "2023-08-27T12:21:14.172192",
     "status": "completed"
    },
    "tags": []
   },
   "outputs": [],
   "source": [
    "# Set the CNN model \n",
    "# my CNN architechture is In -> [[Conv2D->relu]*2 -> MaxPool2D -> Dropout]*2 -> Flatten -> Dense -> Dropout -> Out\n",
    "\n",
    "model = Sequential()\n",
    "\n",
    "model.add(Conv2D(filters = 32, kernel_size = (5,5),padding = 'Same', \n",
    "                 activation ='relu', input_shape = (28,28,1)))\n",
    "model.add(MaxPool2D(pool_size=(2,2)))\n",
    "model.add(Conv2D(filters = 32, kernel_size = (5,5),padding = 'Same', \n",
    "                 activation ='relu'))\n",
    "\n",
    "model.add(Dropout(0.25))\n",
    "model.add(Conv2D(filters = 64, kernel_size = (3,3),padding = 'Same', \n",
    "                 activation ='relu'))\n",
    "model.add(MaxPool2D(pool_size=(2,2)))\n",
    "model.add(Conv2D(filters = 64, kernel_size = (3,3),padding = 'Same', \n",
    "                 activation ='relu'))\n",
    "model.add(MaxPool2D(pool_size=(2,2), strides=(2,2)))\n",
    "model.add(Dropout(0.25))\n",
    "model.add(Conv2D(filters = 64, kernel_size = (3,3),padding = 'Same', \n",
    "                 activation ='relu'))\n",
    "model.add(MaxPool2D(pool_size=(2,2), strides=(2,2)))\n",
    "model.add(Dropout(0.25))\n",
    "\n",
    "model.add(Flatten())\n",
    "model.add(Dense(256, activation = \"relu\"))\n",
    "model.add(Dropout(0.5))\n",
    "model.add(Dense(10, activation = \"softmax\"))"
   ]
  },
  {
   "cell_type": "code",
   "execution_count": 14,
   "id": "11d692fe",
   "metadata": {
    "execution": {
     "iopub.execute_input": "2023-08-27T12:21:17.184796Z",
     "iopub.status.busy": "2023-08-27T12:21:17.184503Z",
     "iopub.status.idle": "2023-08-27T12:21:17.223182Z",
     "shell.execute_reply": "2023-08-27T12:21:17.222511Z"
    },
    "papermill": {
     "duration": 0.078757,
     "end_time": "2023-08-27T12:21:17.250248",
     "exception": false,
     "start_time": "2023-08-27T12:21:17.171491",
     "status": "completed"
    },
    "tags": []
   },
   "outputs": [
    {
     "name": "stdout",
     "output_type": "stream",
     "text": [
      "Model: \"sequential\"\n",
      "_________________________________________________________________\n",
      " Layer (type)                Output Shape              Param #   \n",
      "=================================================================\n",
      " conv2d (Conv2D)             (None, 28, 28, 32)        832       \n",
      "                                                                 \n",
      " max_pooling2d (MaxPooling2D  (None, 14, 14, 32)       0         \n",
      " )                                                               \n",
      "                                                                 \n",
      " conv2d_1 (Conv2D)           (None, 14, 14, 32)        25632     \n",
      "                                                                 \n",
      " dropout (Dropout)           (None, 14, 14, 32)        0         \n",
      "                                                                 \n",
      " conv2d_2 (Conv2D)           (None, 14, 14, 64)        18496     \n",
      "                                                                 \n",
      " max_pooling2d_1 (MaxPooling  (None, 7, 7, 64)         0         \n",
      " 2D)                                                             \n",
      "                                                                 \n",
      " conv2d_3 (Conv2D)           (None, 7, 7, 64)          36928     \n",
      "                                                                 \n",
      " max_pooling2d_2 (MaxPooling  (None, 3, 3, 64)         0         \n",
      " 2D)                                                             \n",
      "                                                                 \n",
      " dropout_1 (Dropout)         (None, 3, 3, 64)          0         \n",
      "                                                                 \n",
      " conv2d_4 (Conv2D)           (None, 3, 3, 64)          36928     \n",
      "                                                                 \n",
      " max_pooling2d_3 (MaxPooling  (None, 1, 1, 64)         0         \n",
      " 2D)                                                             \n",
      "                                                                 \n",
      " dropout_2 (Dropout)         (None, 1, 1, 64)          0         \n",
      "                                                                 \n",
      " flatten (Flatten)           (None, 64)                0         \n",
      "                                                                 \n",
      " dense (Dense)               (None, 256)               16640     \n",
      "                                                                 \n",
      " dropout_3 (Dropout)         (None, 256)               0         \n",
      "                                                                 \n",
      " dense_1 (Dense)             (None, 10)                2570      \n",
      "                                                                 \n",
      "=================================================================\n",
      "Total params: 138,026\n",
      "Trainable params: 138,026\n",
      "Non-trainable params: 0\n",
      "_________________________________________________________________\n"
     ]
    }
   ],
   "source": [
    "model.summary()"
   ]
  },
  {
   "cell_type": "markdown",
   "id": "85c426c3",
   "metadata": {
    "papermill": {
     "duration": 0.014979,
     "end_time": "2023-08-27T12:21:17.280621",
     "exception": false,
     "start_time": "2023-08-27T12:21:17.265642",
     "status": "completed"
    },
    "tags": []
   },
   "source": [
    "## 3.2 Set the optimizer and annealer\n",
    "\n",
    "Once our layers are added to the model, we need to set up a score function, a loss function and an optimisation algorithm.\n",
    "\n",
    "We define the loss function to measure how poorly our model performs on images with known labels. It is the error rate between the oberved labels and the predicted ones. We use a specific form for categorical classifications (>2 classes) called the \"categorical_crossentropy\".\n",
    "\n",
    "The most important function is the optimizer. This function will iteratively improve parameters (filters kernel values, weights and bias of neurons ...) in order to minimise the loss. \n",
    "\n",
    "I choosed RMSprop (with default values), it is a very effective optimizer. The RMSProp update adjusts the Adagrad method in a very simple way in an attempt to reduce its aggressive, monotonically decreasing learning rate.\n",
    "We could also have used Stochastic Gradient Descent ('sgd') optimizer, but it is slower than RMSprop.\n",
    "\n",
    "The metric function \"accuracy\" is used is to evaluate the performance our model.\n",
    "This metric function is similar to the loss function, except that the results from the metric evaluation are not used when training the model (only for evaluation)."
   ]
  },
  {
   "cell_type": "code",
   "execution_count": 15,
   "id": "d9bad731",
   "metadata": {
    "execution": {
     "iopub.execute_input": "2023-08-27T12:21:17.312113Z",
     "iopub.status.busy": "2023-08-27T12:21:17.311787Z",
     "iopub.status.idle": "2023-08-27T12:21:17.316070Z",
     "shell.execute_reply": "2023-08-27T12:21:17.315339Z"
    },
    "papermill": {
     "duration": 0.02211,
     "end_time": "2023-08-27T12:21:17.318013",
     "exception": false,
     "start_time": "2023-08-27T12:21:17.295903",
     "status": "completed"
    },
    "tags": []
   },
   "outputs": [],
   "source": [
    "from tensorflow.keras.optimizers.legacy import RMSprop"
   ]
  },
  {
   "cell_type": "code",
   "execution_count": 16,
   "id": "853a4e68",
   "metadata": {
    "execution": {
     "iopub.execute_input": "2023-08-27T12:21:17.349149Z",
     "iopub.status.busy": "2023-08-27T12:21:17.348897Z",
     "iopub.status.idle": "2023-08-27T12:21:17.353175Z",
     "shell.execute_reply": "2023-08-27T12:21:17.352284Z"
    },
    "papermill": {
     "duration": 0.02202,
     "end_time": "2023-08-27T12:21:17.355090",
     "exception": false,
     "start_time": "2023-08-27T12:21:17.333070",
     "status": "completed"
    },
    "tags": []
   },
   "outputs": [],
   "source": [
    "# Define the optimizer\n",
    "optimizer = RMSprop(learning_rate=0.001, rho=0.9, epsilon=1e-08, decay=0.0)"
   ]
  },
  {
   "cell_type": "code",
   "execution_count": 17,
   "id": "df71c3d6",
   "metadata": {
    "execution": {
     "iopub.execute_input": "2023-08-27T12:21:17.387278Z",
     "iopub.status.busy": "2023-08-27T12:21:17.387009Z",
     "iopub.status.idle": "2023-08-27T12:21:17.404485Z",
     "shell.execute_reply": "2023-08-27T12:21:17.403598Z"
    },
    "papermill": {
     "duration": 0.036698,
     "end_time": "2023-08-27T12:21:17.406765",
     "exception": false,
     "start_time": "2023-08-27T12:21:17.370067",
     "status": "completed"
    },
    "tags": []
   },
   "outputs": [],
   "source": [
    "# Compile the model\n",
    "model.compile(optimizer = 'adam' , loss = \"categorical_crossentropy\", metrics=[\"accuracy\"])"
   ]
  },
  {
   "cell_type": "markdown",
   "id": "81ee6932",
   "metadata": {
    "papermill": {
     "duration": 0.014869,
     "end_time": "2023-08-27T12:21:17.437291",
     "exception": false,
     "start_time": "2023-08-27T12:21:17.422422",
     "status": "completed"
    },
    "tags": []
   },
   "source": [
    "In order to make the optimizer converge faster and closest to the global minimum of the loss function, i used an annealing method of the learning rate (LR).\n",
    "\n",
    "The LR is the step by which the optimizer walks through the 'loss landscape'. The higher LR, the bigger are the steps and the quicker is the convergence. However the sampling is very poor with an high LR and the optimizer could probably fall into a local minima.\n",
    "\n",
    "Its better to have a decreasing learning rate during the training to reach efficiently the global minimum of the loss function. \n",
    "\n",
    "To keep the advantage of the fast computation time with a high LR, i decreased the LR dynamically every X steps (epochs) depending if it is necessary (when accuracy is not improved).\n",
    "\n",
    "With the ReduceLROnPlateau function from Keras.callbacks, i choose to reduce the LR by half if the accuracy is not improved after 3 epochs."
   ]
  },
  {
   "cell_type": "code",
   "execution_count": 18,
   "id": "90ac3c46",
   "metadata": {
    "execution": {
     "iopub.execute_input": "2023-08-27T12:21:17.469006Z",
     "iopub.status.busy": "2023-08-27T12:21:17.468231Z",
     "iopub.status.idle": "2023-08-27T12:21:17.473209Z",
     "shell.execute_reply": "2023-08-27T12:21:17.472376Z"
    },
    "papermill": {
     "duration": 0.022929,
     "end_time": "2023-08-27T12:21:17.475230",
     "exception": false,
     "start_time": "2023-08-27T12:21:17.452301",
     "status": "completed"
    },
    "tags": []
   },
   "outputs": [],
   "source": [
    "# Set a learning rate annealer\n",
    "learning_rate_reduction = ReduceLROnPlateau(monitor='val_acc', \n",
    "                                            patience=3, \n",
    "                                            verbose=1, \n",
    "                                            factor=0.5, \n",
    "                                            min_lr=0.00001)"
   ]
  },
  {
   "cell_type": "code",
   "execution_count": 19,
   "id": "a982976f",
   "metadata": {
    "execution": {
     "iopub.execute_input": "2023-08-27T12:21:17.506599Z",
     "iopub.status.busy": "2023-08-27T12:21:17.506334Z",
     "iopub.status.idle": "2023-08-27T12:21:17.510433Z",
     "shell.execute_reply": "2023-08-27T12:21:17.509487Z"
    },
    "papermill": {
     "duration": 0.022247,
     "end_time": "2023-08-27T12:21:17.512502",
     "exception": false,
     "start_time": "2023-08-27T12:21:17.490255",
     "status": "completed"
    },
    "tags": []
   },
   "outputs": [],
   "source": [
    "epochs = 30#Turn epochs to 30 to get 0.9967 accuracy\n",
    "batch_size = 86"
   ]
  },
  {
   "cell_type": "markdown",
   "id": "c4504d13",
   "metadata": {
    "papermill": {
     "duration": 0.014786,
     "end_time": "2023-08-27T12:21:17.542456",
     "exception": false,
     "start_time": "2023-08-27T12:21:17.527670",
     "status": "completed"
    },
    "tags": []
   },
   "source": [
    "## Data Augmentation\n",
    "\n",
    "In order to avoid overfitting problem, we need to expand artificially our handwritten digit dataset. We can make your existing dataset even larger. The idea is to alter the training data with small transformations to reproduce the variations occuring when someone is writing a digit.\n",
    "\n",
    "For example, the number is not centered \n",
    "The scale is not the same (some who write with big/small numbers)\n",
    "The image is rotated...\n",
    "\n",
    "Approaches that alter the training data in ways that change the array representation while keeping the label the same are known as data augmentation techniques. Some popular augmentations people use are grayscales, horizontal flips, vertical flips, random crops, color jitters, translations, rotations, and much more. \n",
    "\n",
    "By applying just a couple of these transformations to our training data, we can easily double or triple the number of training examples and create a very robust model.\n",
    "\n",
    "The improvement is important : \n",
    "   - Without data augmentation i obtained an accuracy of 98.114%\n",
    "   - With data augmentation i achieved 99.67% of accuracy"
   ]
  },
  {
   "cell_type": "code",
   "execution_count": 20,
   "id": "5e8d606a",
   "metadata": {
    "execution": {
     "iopub.execute_input": "2023-08-27T12:21:17.573867Z",
     "iopub.status.busy": "2023-08-27T12:21:17.573573Z",
     "iopub.status.idle": "2023-08-27T12:21:17.666795Z",
     "shell.execute_reply": "2023-08-27T12:21:17.665829Z"
    },
    "papermill": {
     "duration": 0.111751,
     "end_time": "2023-08-27T12:21:17.669252",
     "exception": false,
     "start_time": "2023-08-27T12:21:17.557501",
     "status": "completed"
    },
    "tags": []
   },
   "outputs": [],
   "source": [
    "# With data augmentation to prevent overfitting (accuracy 0.99286)\n",
    "\n",
    "datagen = ImageDataGenerator(\n",
    "        featurewise_center=False,  # set input mean to 0 over the dataset\n",
    "        samplewise_center=False,  # set each sample mean to 0\n",
    "        featurewise_std_normalization=False,  # divide inputs by std of the dataset\n",
    "        samplewise_std_normalization=False,  # divide each input by its std\n",
    "        zca_whitening=False,  # apply ZCA whitening\n",
    "        rotation_range=10,  # randomly rotate images in the range (degrees, 0 to 180)\n",
    "        zoom_range = 0.1, # Randomly zoom image \n",
    "        width_shift_range=0.1,  # randomly shift images horizontally (fraction of total width)\n",
    "        height_shift_range=0.1,  # randomly shift images vertically (fraction of total height)\n",
    "        horizontal_flip=False,  # randomly flip images\n",
    "        vertical_flip=False)  # randomly flip images\n",
    "\n",
    "\n",
    "datagen.fit(X_train)"
   ]
  },
  {
   "cell_type": "markdown",
   "id": "a4627f98",
   "metadata": {
    "papermill": {
     "duration": 0.015149,
     "end_time": "2023-08-27T12:21:17.699961",
     "exception": false,
     "start_time": "2023-08-27T12:21:17.684812",
     "status": "completed"
    },
    "tags": []
   },
   "source": [
    "For the data augmentation, i choosed to :\n",
    "   - Randomly rotate some training images by 10 degrees\n",
    "   - Randomly  Zoom by 10% some training images\n",
    "   - Randomly shift images horizontally by 10% of the width\n",
    "   - Randomly shift images vertically by 10% of the height\n",
    "   \n",
    "I did not apply a vertical_flip nor horizontal_flip since it could have lead to misclassify symetrical numbers such as 6 and 9.\n",
    "\n",
    "Once our model is ready, we fit the training dataset ."
   ]
  },
  {
   "cell_type": "code",
   "execution_count": 21,
   "id": "5883cef1",
   "metadata": {
    "execution": {
     "iopub.execute_input": "2023-08-27T12:21:17.731997Z",
     "iopub.status.busy": "2023-08-27T12:21:17.731675Z",
     "iopub.status.idle": "2023-08-27T12:28:32.854532Z",
     "shell.execute_reply": "2023-08-27T12:28:32.853482Z"
    },
    "papermill": {
     "duration": 435.14144,
     "end_time": "2023-08-27T12:28:32.856875",
     "exception": false,
     "start_time": "2023-08-27T12:21:17.715435",
     "status": "completed"
    },
    "tags": []
   },
   "outputs": [
    {
     "name": "stdout",
     "output_type": "stream",
     "text": [
      "Epoch 1/30\n"
     ]
    },
    {
     "name": "stderr",
     "output_type": "stream",
     "text": [
      "2023-08-27 12:21:19.015039: E tensorflow/core/grappler/optimizers/meta_optimizer.cc:954] layout failed: INVALID_ARGUMENT: Size of values 0 does not match size of permutation 4 @ fanin shape insequential/dropout/dropout/SelectV2-2-TransposeNHWCToNCHW-LayoutOptimizer\n"
     ]
    },
    {
     "name": "stdout",
     "output_type": "stream",
     "text": [
      "439/439 - 22s - loss: 0.7640 - accuracy: 0.7389 - val_loss: 0.1183 - val_accuracy: 0.9662 - lr: 0.0010 - 22s/epoch - 50ms/step\n",
      "Epoch 2/30\n",
      "439/439 - 11s - loss: 0.1939 - accuracy: 0.9448 - val_loss: 0.0662 - val_accuracy: 0.9814 - lr: 0.0010 - 11s/epoch - 25ms/step\n",
      "Epoch 3/30\n",
      "439/439 - 12s - loss: 0.1385 - accuracy: 0.9598 - val_loss: 0.0626 - val_accuracy: 0.9819 - lr: 0.0010 - 12s/epoch - 27ms/step\n",
      "Epoch 4/30\n",
      "439/439 - 12s - loss: 0.1162 - accuracy: 0.9678 - val_loss: 0.0492 - val_accuracy: 0.9867 - lr: 0.0010 - 12s/epoch - 26ms/step\n",
      "Epoch 5/30\n",
      "439/439 - 11s - loss: 0.1036 - accuracy: 0.9705 - val_loss: 0.0430 - val_accuracy: 0.9902 - lr: 0.0010 - 11s/epoch - 26ms/step\n",
      "Epoch 6/30\n",
      "439/439 - 11s - loss: 0.0941 - accuracy: 0.9748 - val_loss: 0.0342 - val_accuracy: 0.9912 - lr: 0.0010 - 11s/epoch - 26ms/step\n",
      "Epoch 7/30\n",
      "439/439 - 11s - loss: 0.0864 - accuracy: 0.9757 - val_loss: 0.0430 - val_accuracy: 0.9890 - lr: 0.0010 - 11s/epoch - 25ms/step\n",
      "Epoch 8/30\n",
      "439/439 - 12s - loss: 0.0943 - accuracy: 0.9747 - val_loss: 0.0368 - val_accuracy: 0.9900 - lr: 0.0010 - 12s/epoch - 27ms/step\n",
      "Epoch 9/30\n",
      "439/439 - 11s - loss: 0.0757 - accuracy: 0.9784 - val_loss: 0.0391 - val_accuracy: 0.9898 - lr: 0.0010 - 11s/epoch - 25ms/step\n",
      "Epoch 10/30\n",
      "439/439 - 12s - loss: 0.0724 - accuracy: 0.9798 - val_loss: 0.0329 - val_accuracy: 0.9910 - lr: 0.0010 - 12s/epoch - 27ms/step\n",
      "Epoch 11/30\n",
      "439/439 - 11s - loss: 0.0717 - accuracy: 0.9806 - val_loss: 0.0273 - val_accuracy: 0.9938 - lr: 0.0010 - 11s/epoch - 26ms/step\n",
      "Epoch 12/30\n",
      "439/439 - 11s - loss: 0.0626 - accuracy: 0.9826 - val_loss: 0.0462 - val_accuracy: 0.9879 - lr: 0.0010 - 11s/epoch - 26ms/step\n",
      "Epoch 13/30\n",
      "439/439 - 12s - loss: 0.0609 - accuracy: 0.9829 - val_loss: 0.0278 - val_accuracy: 0.9921 - lr: 0.0010 - 12s/epoch - 27ms/step\n",
      "Epoch 14/30\n",
      "439/439 - 12s - loss: 0.0620 - accuracy: 0.9832 - val_loss: 0.0245 - val_accuracy: 0.9931 - lr: 0.0010 - 12s/epoch - 27ms/step\n",
      "Epoch 15/30\n",
      "439/439 - 12s - loss: 0.0601 - accuracy: 0.9837 - val_loss: 0.0270 - val_accuracy: 0.9914 - lr: 0.0010 - 12s/epoch - 26ms/step\n",
      "Epoch 16/30\n",
      "439/439 - 11s - loss: 0.0645 - accuracy: 0.9831 - val_loss: 0.0323 - val_accuracy: 0.9917 - lr: 0.0010 - 11s/epoch - 26ms/step\n",
      "Epoch 17/30\n",
      "439/439 - 12s - loss: 0.0765 - accuracy: 0.9814 - val_loss: 0.0237 - val_accuracy: 0.9940 - lr: 0.0010 - 12s/epoch - 28ms/step\n",
      "Epoch 18/30\n",
      "439/439 - 11s - loss: 0.0655 - accuracy: 0.9835 - val_loss: 0.0251 - val_accuracy: 0.9933 - lr: 0.0010 - 11s/epoch - 26ms/step\n",
      "Epoch 19/30\n",
      "439/439 - 11s - loss: 0.0691 - accuracy: 0.9825 - val_loss: 0.0284 - val_accuracy: 0.9919 - lr: 0.0010 - 11s/epoch - 25ms/step\n",
      "Epoch 20/30\n",
      "439/439 - 12s - loss: 0.0644 - accuracy: 0.9835 - val_loss: 0.0265 - val_accuracy: 0.9938 - lr: 0.0010 - 12s/epoch - 27ms/step\n",
      "Epoch 21/30\n",
      "439/439 - 11s - loss: 0.0580 - accuracy: 0.9853 - val_loss: 0.0236 - val_accuracy: 0.9938 - lr: 0.0010 - 11s/epoch - 25ms/step\n",
      "Epoch 22/30\n",
      "439/439 - 12s - loss: 0.0514 - accuracy: 0.9867 - val_loss: 0.0291 - val_accuracy: 0.9914 - lr: 0.0010 - 12s/epoch - 27ms/step\n",
      "Epoch 23/30\n",
      "439/439 - 11s - loss: 0.0536 - accuracy: 0.9853 - val_loss: 0.0299 - val_accuracy: 0.9926 - lr: 0.0010 - 11s/epoch - 26ms/step\n",
      "Epoch 24/30\n",
      "439/439 - 12s - loss: 0.0557 - accuracy: 0.9863 - val_loss: 0.0251 - val_accuracy: 0.9940 - lr: 0.0010 - 12s/epoch - 28ms/step\n",
      "Epoch 25/30\n",
      "439/439 - 11s - loss: 0.0502 - accuracy: 0.9870 - val_loss: 0.0429 - val_accuracy: 0.9907 - lr: 0.0010 - 11s/epoch - 26ms/step\n",
      "Epoch 26/30\n",
      "439/439 - 11s - loss: 0.0513 - accuracy: 0.9853 - val_loss: 0.0203 - val_accuracy: 0.9952 - lr: 0.0010 - 11s/epoch - 26ms/step\n",
      "Epoch 27/30\n",
      "439/439 - 12s - loss: 0.0454 - accuracy: 0.9878 - val_loss: 0.0296 - val_accuracy: 0.9938 - lr: 0.0010 - 12s/epoch - 27ms/step\n",
      "Epoch 28/30\n",
      "439/439 - 11s - loss: 0.0462 - accuracy: 0.9875 - val_loss: 0.0247 - val_accuracy: 0.9933 - lr: 0.0010 - 11s/epoch - 25ms/step\n",
      "Epoch 29/30\n",
      "439/439 - 11s - loss: 0.0457 - accuracy: 0.9876 - val_loss: 0.0293 - val_accuracy: 0.9924 - lr: 0.0010 - 11s/epoch - 25ms/step\n",
      "Epoch 30/30\n",
      "439/439 - 12s - loss: 0.0432 - accuracy: 0.9888 - val_loss: 0.0271 - val_accuracy: 0.9919 - lr: 0.0010 - 12s/epoch - 28ms/step\n"
     ]
    }
   ],
   "source": [
    "# Fit the model\n",
    "history = model.fit(datagen.flow(X_train,Y_train, batch_size=batch_size),\n",
    "                              epochs = epochs, validation_data = (X_val,Y_val),\n",
    "                              verbose = 2, steps_per_epoch=X_train.shape[0] // batch_size\n",
    "                              , callbacks=[learning_rate_reduction])"
   ]
  },
  {
   "cell_type": "markdown",
   "id": "c8c5bbf7",
   "metadata": {
    "papermill": {
     "duration": 0.019373,
     "end_time": "2023-08-27T12:28:32.896149",
     "exception": false,
     "start_time": "2023-08-27T12:28:32.876776",
     "status": "completed"
    },
    "tags": []
   },
   "source": [
    "# 4. Evaluate the model\n",
    "## 4.1 Training and Validation Curves"
   ]
  },
  {
   "cell_type": "code",
   "execution_count": 22,
   "id": "5c55681a",
   "metadata": {
    "execution": {
     "iopub.execute_input": "2023-08-27T12:28:32.938544Z",
     "iopub.status.busy": "2023-08-27T12:28:32.937054Z",
     "iopub.status.idle": "2023-08-27T12:28:33.547619Z",
     "shell.execute_reply": "2023-08-27T12:28:33.546699Z"
    },
    "papermill": {
     "duration": 0.633646,
     "end_time": "2023-08-27T12:28:33.549865",
     "exception": false,
     "start_time": "2023-08-27T12:28:32.916219",
     "status": "completed"
    },
    "tags": []
   },
   "outputs": [
    {
     "data": {
      "image/png": "[encoded data removed]",
      "text/plain": [
       "<Figure size 640x480 with 2 Axes>"
      ]
     },
     "metadata": {},
     "output_type": "display_data"
    }
   ],
   "source": [
    "# Plot the loss and accuracy curves for training and validation \n",
    "fig, ax = plt.subplots(2,1)\n",
    "ax[0].plot(history.history['loss'], color='b', label=\"Training loss\")\n",
    "ax[0].plot(history.history['val_loss'], color='r', label=\"validation loss\",axes =ax[0])\n",
    "legend = ax[0].legend(loc='best', shadow=True)\n",
    "\n",
    "ax[1].plot(history.history['accuracy'], color='b', label=\"Training accuracy\")\n",
    "ax[1].plot(history.history['val_accuracy'], color='r',label=\"Validation accuracy\")\n",
    "legend = ax[1].legend(loc='best', shadow=True)"
   ]
  },
  {
   "cell_type": "markdown",
   "id": "f30f0d8e",
   "metadata": {
    "papermill": {
     "duration": 0.020044,
     "end_time": "2023-08-27T12:28:33.590359",
     "exception": false,
     "start_time": "2023-08-27T12:28:33.570315",
     "status": "completed"
    },
    "tags": []
   },
   "source": [
    "The code below is for plotting loss and accuracy curves for training and validation. Since, i set epochs = 2 on this notebook .\n",
    "The model reaches almost 99% (98.7+%) accuracy on the validation dataset after 2 epochs. The validation accuracy is greater than the training accuracy almost evry time during the training. That means that our model dosen't not overfit the training set.\n",
    "\n",
    "Our model is very well trained\n",
    "\n",
    "## 4.2 Confusion Matrix"
   ]
  },
  {
   "cell_type": "code",
   "execution_count": 23,
   "id": "901300e1",
   "metadata": {
    "execution": {
     "iopub.execute_input": "2023-08-27T12:28:33.632176Z",
     "iopub.status.busy": "2023-08-27T12:28:33.631845Z",
     "iopub.status.idle": "2023-08-27T12:28:35.149534Z",
     "shell.execute_reply": "2023-08-27T12:28:35.148594Z"
    },
    "papermill": {
     "duration": 1.541194,
     "end_time": "2023-08-27T12:28:35.151716",
     "exception": false,
     "start_time": "2023-08-27T12:28:33.610522",
     "status": "completed"
    },
    "tags": []
   },
   "outputs": [
    {
     "name": "stdout",
     "output_type": "stream",
     "text": [
      "132/132 [==============================] - 0s 2ms/step\n"
     ]
    },
    {
     "data": {
      "image/png": "[encoded data removed]",
      "text/plain": [
       "<Figure size 640x480 with 2 Axes>"
      ]
     },
     "metadata": {},
     "output_type": "display_data"
    }
   ],
   "source": [
    "# Look at confusion matrix \n",
    "\n",
    "def plot_confusion_matrix(cm, classes,\n",
    "                          normalize=False,\n",
    "                          title='Confusion matrix',\n",
    "                          cmap=plt.cm.Blues):\n",
    "    \"\"\"\n",
    "    This function prints and plots the confusion matrix.\n",
    "    Normalization can be applied by setting `normalize=True`.\n",
    "    \"\"\"\n",
    "    plt.imshow(cm, interpolation='nearest', cmap=cmap)\n",
    "    plt.title(title)\n",
    "    plt.colorbar()\n",
    "    tick_marks = np.arange(len(classes))\n",
    "    plt.xticks(tick_marks, classes, rotation=45)\n",
    "    plt.yticks(tick_marks, classes)\n",
    "\n",
    "    if normalize:\n",
    "        cm = cm.astype('float') / cm.sum(axis=1)[:, np.newaxis]\n",
    "\n",
    "    thresh = cm.max() / 2.\n",
    "    for i, j in itertools.product(range(cm.shape[0]), range(cm.shape[1])):\n",
    "        plt.text(j, i, cm[i, j],\n",
    "                 horizontalalignment=\"center\",\n",
    "                 color=\"white\" if cm[i, j] > thresh else \"black\")\n",
    "\n",
    "    plt.tight_layout()\n",
    "    plt.ylabel('True label')\n",
    "    plt.xlabel('Predicted label')\n",
    "\n",
    "# Predict the values from the validation dataset\n",
    "Y_pred = model.predict(X_val)\n",
    "# Convert predictions classes to one hot vectors \n",
    "Y_pred_classes = np.argmax(Y_pred,axis = 1) \n",
    "# Convert validation observations to one hot vectors\n",
    "Y_true = np.argmax(Y_val,axis = 1) \n",
    "# compute the confusion matrix\n",
    "confusion_mtx = confusion_matrix(Y_true, Y_pred_classes) \n",
    "# plot the confusion matrix\n",
    "plot_confusion_matrix(confusion_mtx, classes = range(10)) "
   ]
  },
  {
   "cell_type": "markdown",
   "id": "d629f945",
   "metadata": {
    "papermill": {
     "duration": 0.021515,
     "end_time": "2023-08-27T12:28:35.194714",
     "exception": false,
     "start_time": "2023-08-27T12:28:35.173199",
     "status": "completed"
    },
    "tags": []
   },
   "source": [
    "Here we can see that our CNN performs very well on all digits with few errors considering the size of the validation set (4 200 images).\n",
    "\n",
    "However, it seems that our CNN has some little troubles with the 4 digits, hey are misclassified as 9. Sometime it is very difficult to catch the difference between 4 and 9 when curves are smooth.\n",
    "\n",
    "Let's investigate for errors.\n",
    "\n",
    "I want to see the most important errors . For that purpose i need to get the difference between the probabilities of real value and the predicted ones in the results."
   ]
  },
  {
   "cell_type": "code",
   "execution_count": 24,
   "id": "49d70078",
   "metadata": {
    "execution": {
     "iopub.execute_input": "2023-08-27T12:28:35.239081Z",
     "iopub.status.busy": "2023-08-27T12:28:35.237708Z",
     "iopub.status.idle": "2023-08-27T12:28:36.391674Z",
     "shell.execute_reply": "2023-08-27T12:28:36.390762Z"
    },
    "papermill": {
     "duration": 1.178003,
     "end_time": "2023-08-27T12:28:36.393722",
     "exception": false,
     "start_time": "2023-08-27T12:28:35.215719",
     "status": "completed"
    },
    "tags": []
   },
   "outputs": [
    {
     "data": {
      "image/png": "[encoded data removed]",
      "text/plain": [
       "<Figure size 640x480 with 6 Axes>"
      ]
     },
     "metadata": {},
     "output_type": "display_data"
    }
   ],
   "source": [
    "# Display some error results \n",
    "\n",
    "# Errors are difference between predicted labels and true labels\n",
    "errors = (Y_pred_classes - Y_true != 0)\n",
    "\n",
    "Y_pred_classes_errors = Y_pred_classes[errors]\n",
    "Y_pred_errors = Y_pred[errors]\n",
    "Y_true_errors = Y_true[errors]\n",
    "X_val_errors = X_val[errors]\n",
    "\n",
    "def display_errors(errors_index,img_errors,pred_errors, obs_errors):\n",
    "    \"\"\" This function shows 6 images with their predicted and real labels\"\"\"\n",
    "    n = 0\n",
    "    nrows = 2\n",
    "    ncols = 3\n",
    "    fig, ax = plt.subplots(nrows,ncols,sharex=True,sharey=True)\n",
    "    for row in range(nrows):\n",
    "        for col in range(ncols):\n",
    "            error = errors_index[n]\n",
    "            ax[row,col].imshow((img_errors[error]).reshape((28,28)))\n",
    "            ax[row,col].set_title(\"Predicted label :{}\\nTrue label :{}\".format(pred_errors[error],obs_errors[error]))\n",
    "            n += 1\n",
    "\n",
    "# Probabilities of the wrong predicted numbers\n",
    "Y_pred_errors_prob = np.max(Y_pred_errors,axis = 1)\n",
    "\n",
    "# Predicted probabilities of the true values in the error set\n",
    "true_prob_errors = np.diagonal(np.take(Y_pred_errors, Y_true_errors, axis=1))\n",
    "\n",
    "# Difference between the probability of the predicted label and the true label\n",
    "delta_pred_true_errors = Y_pred_errors_prob - true_prob_errors\n",
    "\n",
    "# Sorted list of the delta prob errors\n",
    "sorted_dela_errors = np.argsort(delta_pred_true_errors)\n",
    "\n",
    "# Top 6 errors \n",
    "most_important_errors = sorted_dela_errors[-6:]\n",
    "\n",
    "# Show the top 6 errors\n",
    "display_errors(most_important_errors, X_val_errors, Y_pred_classes_errors, Y_true_errors)"
   ]
  },
  {
   "cell_type": "markdown",
   "id": "dec70505",
   "metadata": {
    "papermill": {
     "duration": 0.021563,
     "end_time": "2023-08-27T12:28:36.437145",
     "exception": false,
     "start_time": "2023-08-27T12:28:36.415582",
     "status": "completed"
    },
    "tags": []
   },
   "source": [
    "The most important errors are also the most intrigous. \n",
    "\n",
    "For those six case, the model is not ridiculous. Some of these errors can also be made by humans, especially for one the 9 that is very close to a 4. The last 9 is also very misleading, it seems for me that is a 0."
   ]
  },
  {
   "cell_type": "code",
   "execution_count": 25,
   "id": "f0d2b65c",
   "metadata": {
    "execution": {
     "iopub.execute_input": "2023-08-27T12:28:36.482016Z",
     "iopub.status.busy": "2023-08-27T12:28:36.481222Z",
     "iopub.status.idle": "2023-08-27T12:28:38.819950Z",
     "shell.execute_reply": "2023-08-27T12:28:38.818975Z"
    },
    "papermill": {
     "duration": 2.363545,
     "end_time": "2023-08-27T12:28:38.822309",
     "exception": false,
     "start_time": "2023-08-27T12:28:36.458764",
     "status": "completed"
    },
    "tags": []
   },
   "outputs": [
    {
     "name": "stdout",
     "output_type": "stream",
     "text": [
      "875/875 [==============================] - 2s 2ms/step\n"
     ]
    }
   ],
   "source": [
    "# predict results\n",
    "results = model.predict(test)\n",
    "\n",
    "# select the indix with the maximum probability\n",
    "results = np.argmax(results,axis = 1)\n",
    "\n",
    "results = pd.Series(results,name=\"Label\")"
   ]
  },
  {
   "cell_type": "code",
   "execution_count": 26,
   "id": "6ae6dafa",
   "metadata": {
    "execution": {
     "iopub.execute_input": "2023-08-27T12:28:38.873342Z",
     "iopub.status.busy": "2023-08-27T12:28:38.873028Z",
     "iopub.status.idle": "2023-08-27T12:28:38.882917Z",
     "shell.execute_reply": "2023-08-27T12:28:38.881888Z"
    },
    "papermill": {
     "duration": 0.039049,
     "end_time": "2023-08-27T12:28:38.886197",
     "exception": false,
     "start_time": "2023-08-27T12:28:38.847148",
     "status": "completed"
    },
    "tags": []
   },
   "outputs": [
    {
     "name": "stdout",
     "output_type": "stream",
     "text": [
      "The precision score is:  0.9919413035097512\n",
      "The recall score is:  0.991904761904762\n",
      "The f1 score is:  0.9919033820359261\n"
     ]
    }
   ],
   "source": [
    "from sklearn.metrics import precision_recall_fscore_support\n",
    "\n",
    "score = precision_recall_fscore_support(Y_true, Y_pred_classes, average = 'weighted')\n",
    "\n",
    "print('The precision score is: ',score[0])\n",
    "print('The recall score is: ',score[1])\n",
    "print('The f1 score is: ',score[2])\n"
   ]
  },
  {
   "cell_type": "code",
   "execution_count": 27,
   "id": "c692291f",
   "metadata": {
    "execution": {
     "iopub.execute_input": "2023-08-27T12:28:38.935982Z",
     "iopub.status.busy": "2023-08-27T12:28:38.935697Z",
     "iopub.status.idle": "2023-08-27T12:28:38.971631Z",
     "shell.execute_reply": "2023-08-27T12:28:38.970978Z"
    },
    "papermill": {
     "duration": 0.092195,
     "end_time": "2023-08-27T12:28:39.002469",
     "exception": false,
     "start_time": "2023-08-27T12:28:38.910274",
     "status": "completed"
    },
    "tags": []
   },
   "outputs": [
    {
     "name": "stdout",
     "output_type": "stream",
     "text": [
      "Model: \"sequential\"\n",
      "_________________________________________________________________\n",
      " Layer (type)                Output Shape              Param #   \n",
      "=================================================================\n",
      " conv2d (Conv2D)             (None, 28, 28, 32)        832       \n",
      "                                                                 \n",
      " max_pooling2d (MaxPooling2D  (None, 14, 14, 32)       0         \n",
      " )                                                               \n",
      "                                                                 \n",
      " conv2d_1 (Conv2D)           (None, 14, 14, 32)        25632     \n",
      "                                                                 \n",
      " dropout (Dropout)           (None, 14, 14, 32)        0         \n",
      "                                                                 \n",
      " conv2d_2 (Conv2D)           (None, 14, 14, 64)        18496     \n",
      "                                                                 \n",
      " max_pooling2d_1 (MaxPooling  (None, 7, 7, 64)         0         \n",
      " 2D)                                                             \n",
      "                                                                 \n",
      " conv2d_3 (Conv2D)           (None, 7, 7, 64)          36928     \n",
      "                                                                 \n",
      " max_pooling2d_2 (MaxPooling  (None, 3, 3, 64)         0         \n",
      " 2D)                                                             \n",
      "                                                                 \n",
      " dropout_1 (Dropout)         (None, 3, 3, 64)          0         \n",
      "                                                                 \n",
      " conv2d_4 (Conv2D)           (None, 3, 3, 64)          36928     \n",
      "                                                                 \n",
      " max_pooling2d_3 (MaxPooling  (None, 1, 1, 64)         0         \n",
      " 2D)                                                             \n",
      "                                                                 \n",
      " dropout_2 (Dropout)         (None, 1, 1, 64)          0         \n",
      "                                                                 \n",
      " flatten (Flatten)           (None, 64)                0         \n",
      "                                                                 \n",
      " dense (Dense)               (None, 256)               16640     \n",
      "                                                                 \n",
      " dropout_3 (Dropout)         (None, 256)               0         \n",
      "                                                                 \n",
      " dense_1 (Dense)             (None, 10)                2570      \n",
      "                                                                 \n",
      "=================================================================\n",
      "Total params: 138,026\n",
      "Trainable params: 138,026\n",
      "Non-trainable params: 0\n",
      "_________________________________________________________________\n"
     ]
    }
   ],
   "source": [
    "model.summary()"
   ]
  },
  {
   "cell_type": "code",
   "execution_count": 28,
   "id": "db5bdd27",
   "metadata": {
    "execution": {
     "iopub.execute_input": "2023-08-27T12:28:39.065299Z",
     "iopub.status.busy": "2023-08-27T12:28:39.064885Z",
     "iopub.status.idle": "2023-08-27T12:28:39.124970Z",
     "shell.execute_reply": "2023-08-27T12:28:39.124127Z"
    },
    "papermill": {
     "duration": 0.090413,
     "end_time": "2023-08-27T12:28:39.126992",
     "exception": false,
     "start_time": "2023-08-27T12:28:39.036579",
     "status": "completed"
    },
    "tags": []
   },
   "outputs": [],
   "source": [
    "sub = pd.concat([pd.Series(range(1,28001),name = \"ImageId\"),results],axis = 1)\n",
    "\n",
    "sub.to_csv(\"cnn_mnist_data_ay.csv\",index=False)"
   ]
  }
 ],
 "metadata": {
  "kernelspec": {
   "display_name": "Python 3",
   "language": "python",
   "name": "python3"
  },
  "language_info": {
   "codemirror_mode": {
    "name": "ipython",
    "version": 3
   },
   "file_extension": ".py",
   "mimetype": "text/x-python",
   "name": "python",
   "nbconvert_exporter": "python",
   "pygments_lexer": "ipython3",
   "version": "3.10.12"
  },
  "papermill": {
   "default_parameters": {},
   "duration": 475.006767,
   "end_time": "2023-08-27T12:28:41.930088",
   "environment_variables": {},
   "exception": null,
   "input_path": "__notebook__.ipynb",
   "output_path": "__notebook__.ipynb",
   "parameters": {},
   "start_time": "2023-08-27T12:20:46.923321",
   "version": "2.4.0"
  }
 },
 "nbformat": 4,
 "nbformat_minor": 5
}
